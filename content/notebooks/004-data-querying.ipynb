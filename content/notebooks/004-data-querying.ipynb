{
 "cells": [
  {
   "cell_type": "markdown",
   "metadata": {},
   "source": [
    "# 004 - Data querying"
   ]
  },
  {
   "cell_type": "markdown",
   "metadata": {},
   "source": [
    "TODO: explain what Pandas is (briefly), the need to include a separate code skill to lower resource usage, examples with iris.csv?"
   ]
  },
  {
   "cell_type": "markdown",
   "metadata": {},
   "source": [
    "`pandas` is a popular data science toolkit used primarily for its `DataFrame` abstraction that allows for handling and accessing data easily, commonly from `.csv` files. To pass an entire dataset into an LLM to provide context for fulfilling natural language data queries is impractical due to token limits and expense."
   ]
  },
  {
   "cell_type": "markdown",
   "metadata": {},
   "source": [
    "I worked with a teammate to develop two skills within SK: a code generation and exeuction skill, and a data processing skill. These two skills in conjunction to dynamically generate code, execute locally on the user's system, and respond in natural language in a GPT-like format with low resource usage."
   ]
  },
  {
   "cell_type": "markdown",
   "metadata": {},
   "source": [
    "See [pull request #2385](https://github.com/microsoft/semantic-kernel/pull/2289) for the source code.\n",
    "\n",
    "---"
   ]
  },
  {
   "cell_type": "markdown",
   "metadata": {},
   "source": [
    "Come back later to see the data skill in action!"
   ]
  }
 ],
 "metadata": {
  "language_info": {
   "name": "python"
  },
  "orig_nbformat": 4
 },
 "nbformat": 4,
 "nbformat_minor": 2
}
