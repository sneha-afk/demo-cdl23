{
 "cells": [
  {
   "cell_type": "markdown",
   "metadata": {},
   "source": [
    "# Introduction"
   ]
  },
  {
   "cell_type": "markdown",
   "metadata": {},
   "source": [
    "**Semantic Kernel** (SK) is an open-source software development kit developed by Microsoft to facilitate AI orchestration and integration within applications. SK ties in connections between LLM services, such as OpenAI’s GPT models, and other features like memory and native functions to provide an accessible platform for AI development. It acts as a springboard for quickly utilizing the growing technology of generative AI by abstracting the usage of various components and streamlining API connections, making the development process easier and sustainable.\n"
   ]
  },
  {
   "cell_type": "markdown",
   "metadata": {},
   "source": [
    "To learn more about Semantic Kernel, see the [official documentation](https://learn.microsoft.com/en-us/semantic-kernel/) and the [main repository](https://github.com/microsoft/semantic-kernel).\n",
    "\n",
    "---"
   ]
  },
  {
   "cell_type": "markdown",
   "metadata": {},
   "source": [
    "This notebook and all to follow can be downloaded and edited from [their folder](/notebooks/)."
   ]
  },
  {
   "cell_type": "markdown",
   "metadata": {},
   "source": [
    "To install from the main branch of my Semantic Kernel fork, use the following command:"
   ]
  },
  {
   "cell_type": "code",
   "execution_count": 8,
   "metadata": {},
   "outputs": [],
   "source": [
    "!python -m pip -q install git+https://github.com/sneha-afk/semantic-kernel@main#subdirectory=python"
   ]
  }
 ],
 "metadata": {
  "kernelspec": {
   "display_name": "venv",
   "language": "python",
   "name": "python3"
  },
  "language_info": {
   "codemirror_mode": {
    "name": "ipython",
    "version": 3
   },
   "file_extension": ".py",
   "mimetype": "text/x-python",
   "name": "python",
   "nbconvert_exporter": "python",
   "pygments_lexer": "ipython3",
   "version": "3.10.5"
  },
  "orig_nbformat": 4
 },
 "nbformat": 4,
 "nbformat_minor": 2
}
