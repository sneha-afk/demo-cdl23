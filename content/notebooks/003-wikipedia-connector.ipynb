{
 "cells": [
  {
   "cell_type": "markdown",
   "metadata": {},
   "source": [
    "# Wikipedia connector"
   ]
  },
  {
   "cell_type": "markdown",
   "metadata": {},
   "source": [
    "One of the biggest challenges with LLM models is the knowledge cut-off dates, which is September 2021 for OpenAI’s gpt-3.5-turbo model. Connecting the kernel with search engine capabilities can mitigate these problems by retrieving latest information with fresh searches to platforms like Wikipedia."
   ]
  },
  {
   "cell_type": "markdown",
   "metadata": {},
   "source": [
    "Adding onto the existing search engine skill, I implemented a connector to the MediaWiki API that fetches Wikipedia articles from queries."
   ]
  },
  {
   "cell_type": "markdown",
   "metadata": {},
   "source": [
    "See [pull request #2289](https://github.com/microsoft/semantic-kernel/pull/2289) for the source code.\n",
    "\n",
    "---"
   ]
  },
  {
   "cell_type": "code",
   "execution_count": null,
   "metadata": {},
   "outputs": [],
   "source": [
    "!python -m pip -q install git+https://github.com/sneha-afk/semantic-kernel@pywiki#subdirectory=python"
   ]
  }
 ],
 "metadata": {
  "kernelspec": {
   "display_name": "venv",
   "language": "python",
   "name": "python3"
  },
  "language_info": {
   "codemirror_mode": {
    "name": "ipython",
    "version": 3
   },
   "file_extension": ".py",
   "mimetype": "text/x-python",
   "name": "python",
   "nbconvert_exporter": "python",
   "pygments_lexer": "ipython3",
   "version": "3.10.5"
  },
  "orig_nbformat": 4
 },
 "nbformat": 4,
 "nbformat_minor": 2
}
