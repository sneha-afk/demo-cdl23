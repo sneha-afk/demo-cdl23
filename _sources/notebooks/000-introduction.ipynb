{
 "cells": [
  {
   "cell_type": "markdown",
   "metadata": {},
   "source": [
    "# Introduction"
   ]
  },
  {
   "cell_type": "markdown",
   "metadata": {},
   "source": [
    "**Semantic Kernel** (SK) is an open-source software development kit developed by Microsoft to facilitate AI orchestration and integration within applications. SK ties in connections between LLM services, such as OpenAI’s GPT models, and other features like memory and native functions. By abstracting the usage of various components and streamlining API interactions, SK acts as a springboard for quickly utilizing the growing field of generative AI and makes the development process more accessible and sustainable for long-term deployments.\n"
   ]
  },
  {
   "cell_type": "markdown",
   "metadata": {},
   "source": [
    "To learn more about Semantic Kernel, see the [official documentation](https://learn.microsoft.com/en-us/semantic-kernel/) and the [main repository](https://github.com/microsoft/semantic-kernel).\n",
    "\n",
    "SK has official releases on [Nuget](https://www.nuget.org/packages/Microsoft.SemanticKernel/) and [PyPi (`pip`)](https://pypi.org/project/semantic-kernel/).\n",
    "\n",
    "---"
   ]
  },
  {
   "cell_type": "markdown",
   "metadata": {},
   "source": [
    "This notebook and all to follow can be downloaded and edited from [their folder](/notebooks/)."
   ]
  },
  {
   "cell_type": "markdown",
   "metadata": {},
   "source": [
    "To install from the main branch of my Semantic Kernel fork, use the following command:"
   ]
  },
  {
   "cell_type": "code",
   "execution_count": 8,
   "metadata": {},
   "outputs": [],
   "source": [
    "!python -m pip -q install git+https://github.com/sneha-afk/semantic-kernel@main#subdirectory=python"
   ]
  }
 ],
 "metadata": {
  "kernelspec": {
   "display_name": "venv",
   "language": "python",
   "name": "python3"
  },
  "language_info": {
   "codemirror_mode": {
    "name": "ipython",
    "version": 3
   },
   "file_extension": ".py",
   "mimetype": "text/x-python",
   "name": "python",
   "nbconvert_exporter": "python",
   "pygments_lexer": "ipython3",
   "version": "3.10.5"
  },
  "orig_nbformat": 4
 },
 "nbformat": 4,
 "nbformat_minor": 2
}
