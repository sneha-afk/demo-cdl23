{
 "cells": [
  {
   "cell_type": "markdown",
   "metadata": {},
   "source": [
    "# Wikipedia connector"
   ]
  },
  {
   "cell_type": "markdown",
   "metadata": {},
   "source": [
    "One of the biggest challenges with LLM models is the knowledge cut-off dates, which is September 2021 for OpenAI’s gpt-3.5-turbo model. Connecting the kernel with search engine capabilities can mitigate these problems by retrieving latest information with fresh searches to platforms like Wikipedia."
   ]
  },
  {
   "cell_type": "markdown",
   "metadata": {},
   "source": [
    "Adding onto the existing search engine skill, I implemented a connector to the MediaWiki API that fetches Wikipedia articles from queries."
   ]
  },
  {
   "cell_type": "markdown",
   "metadata": {},
   "source": [
    "See [pull request #2289](https://github.com/microsoft/semantic-kernel/pull/2289) for the source code.\n",
    "\n",
    "---"
   ]
  }
 ],
 "metadata": {
  "language_info": {
   "name": "python"
  },
  "orig_nbformat": 4
 },
 "nbformat": 4,
 "nbformat_minor": 2
}
