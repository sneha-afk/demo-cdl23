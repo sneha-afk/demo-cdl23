{
 "cells": [
  {
   "cell_type": "markdown",
   "metadata": {},
   "source": [
    "# 001 - Logit Bias"
   ]
  },
  {
   "cell_type": "markdown",
   "metadata": {},
   "source": [
    "From the OpenAI API, [logit bias](https://platform.openai.com/docs/api-reference/chat/create#chat/create-logit_bias) is taken as a mapping of tokens to their bias levels ranging from -100, a potential complete ban of the token, to 100, a potenital guarantee of selection. Lesser magnitude values like -1 or 1 will configure the possibility for the token's \"selection\": the chance it will appear in the output. "
   ]
  },
  {
   "cell_type": "markdown",
   "metadata": {},
   "source": [
    "The representative tokens for certain characters can be obtained from [OpenAI's tokenizer](https://platform.openai.com/tokenizer). \n",
    "\n",
    "Tokenizers are sensitive to capitalization, spaces, and punctuation; it is crucial to consider all possible tokens of certain strings if logit bias is being implemented manually."
   ]
  },
  {
   "cell_type": "code",
   "execution_count": 1,
   "metadata": {},
   "outputs": [
    {
     "name": "stdout",
     "output_type": "stream",
     "text": [
      "hello world\n",
      "0\n",
      "1\n",
      "2\n",
      "3\n",
      "4\n",
      "5\n",
      "6\n",
      "7\n",
      "8\n",
      "9\n"
     ]
    }
   ],
   "source": [
    "print(\"hello world\")\n",
    "for i in range(10):\n",
    "    print(i)"
   ]
  }
 ],
 "metadata": {
  "kernelspec": {
   "display_name": "venv",
   "language": "python",
   "name": "python3"
  },
  "language_info": {
   "codemirror_mode": {
    "name": "ipython",
    "version": 3
   },
   "file_extension": ".py",
   "mimetype": "text/x-python",
   "name": "python",
   "nbconvert_exporter": "python",
   "pygments_lexer": "ipython3",
   "version": "3.10.5"
  },
  "orig_nbformat": 4
 },
 "nbformat": 4,
 "nbformat_minor": 2
}
