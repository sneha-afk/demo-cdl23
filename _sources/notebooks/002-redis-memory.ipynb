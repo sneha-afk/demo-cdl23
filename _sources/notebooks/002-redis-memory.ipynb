{
 "cells": [
  {
   "cell_type": "markdown",
   "metadata": {},
   "source": [
    "# Redis memory connector"
   ]
  },
  {
   "cell_type": "markdown",
   "metadata": {},
   "source": [
    "Text embddings are vector arrays of floating point numbers that can be used to conduct similarity searches to find relevant information. These can be stored into databases with vector support for effiicent storage and retrieval. SK can use these embeddings to generate more helpful and relevant output for the end user.\n"
   ]
  },
  {
   "cell_type": "markdown",
   "metadata": {},
   "source": [
    "[Redis](https://redis.io/) is a popular key-value database known for efficient operations and disk-persistent storage and supports vector operations through the RediSearch module. Using Redis within Python requires the `redis-py` module which can be installed with:\n",
    "\n",
    "```bash\n",
    "pip install redis-py\n",
    "```"
   ]
  },
  {
   "cell_type": "markdown",
   "metadata": {},
   "source": [
    "I implemented `RedisMemoryStore` that inherits from `MemoryStoreBase` to be used as a semantic memory store for use in the kernel. "
   ]
  },
  {
   "cell_type": "markdown",
   "metadata": {},
   "source": [
    "See [pull request #2132](https://github.com/microsoft/semantic-kernel/pull/2132) for the source code and also [pull request #2211](https://github.com/microsoft/semantic-kernel/pull/2211) for improvements for the C# connector.\n",
    "\n",
    "---"
   ]
  },
  {
   "cell_type": "markdown",
   "metadata": {},
   "source": [
    "Come back later for a code example on how to use `RedisMemoryStore`!"
   ]
  }
 ],
 "metadata": {
  "language_info": {
   "name": "python"
  },
  "orig_nbformat": 4
 },
 "nbformat": 4,
 "nbformat_minor": 2
}
